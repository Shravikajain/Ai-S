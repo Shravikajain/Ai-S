{
  "nbformat": 4,
  "nbformat_minor": 0,
  "metadata": {
    "colab": {
      "provenance": [],
      "authorship_tag": "ABX9TyPDPBDoXJt+JoEyIrNvhHoW",
      "include_colab_link": true
    },
    "kernelspec": {
      "name": "python3",
      "display_name": "Python 3"
    },
    "language_info": {
      "name": "python"
    }
  },
  "cells": [
    {
      "cell_type": "markdown",
      "metadata": {
        "id": "view-in-github",
        "colab_type": "text"
      },
      "source": [
        "<a href=\"https://colab.research.google.com/github/Shravikajain/Ai-S/blob/master/RuleBasedChatbot.ipynb\" target=\"_parent\"><img src=\"https://colab.research.google.com/assets/colab-badge.svg\" alt=\"Open In Colab\"/></a>"
      ]
    },
    {
      "cell_type": "markdown",
      "source": [
        "### Python dictionaries"
      ],
      "metadata": {
        "id": "23HXQBxhPG8w"
      }
    },
    {
      "cell_type": "code",
      "source": [
        "# Mapping intents with the list of keywords\n",
        "intents = {\n",
        "    \"greeting\": [\"hi\" , \"hello\" , \"good morning\" ],\n",
        "    \"time\" : [\"working \", \"hours\" , \"timing\"],\n",
        "    \"closing\": [\"bye\",\"c u\"]\n",
        "    \"carre\"\n",
        "}"
      ],
      "metadata": {
        "id": "D88vpWOYO-pO"
      },
      "execution_count": null,
      "outputs": []
    },
    {
      "cell_type": "code",
      "source": [
        "import random"
      ],
      "metadata": {
        "id": "YW_Q-FAQcq0a"
      },
      "execution_count": null,
      "outputs": []
    },
    {
      "cell_type": "code",
      "source": [
        "responses = {\n",
        "    'greeting': [\"hey i'm a chatbot\" , \"guten Abend\"],\n",
        "    'time': ['I can work from 9 am to 9 pm '],\n",
        "    'closing' : ['BYE ! have a good day' ]\n",
        "}"
      ],
      "metadata": {
        "id": "fqZT6aJYQJJK"
      },
      "execution_count": null,
      "outputs": []
    },
    {
      "cell_type": "code",
      "source": [
        "while True :\n",
        "  print (\"CHATBOT\")\n",
        "  q = input()\n",
        "  q = q.lower()\n",
        "  q = q.split()\n",
        "  selected_intent = ''\n",
        "  for intent , keywords in intents.items():\n",
        "     for  i in  q :\n",
        "\n",
        "       if i in  keywords:\n",
        "         selected_intent += intent\n",
        "         break\n",
        "  print(\"chatbot :\", random.choice(responses[selected_intent]))\n",
        "  if selected_intent == 'closing':\n",
        "   break"
      ],
      "metadata": {
        "colab": {
          "base_uri": "https://localhost:8080/"
        },
        "id": "Qhwdr84TQw9V",
        "outputId": "7bbd9ddc-e41d-4ab4-91a0-bab528a628d9"
      },
      "execution_count": null,
      "outputs": [
        {
          "output_type": "stream",
          "name": "stdout",
          "text": [
            "CHATBOT\n",
            "hi\n",
            "chatbot : guten Abend\n",
            "CHATBOT\n",
            "hello\n",
            "chatbot : hey i'm a chatbot\n",
            "CHATBOT\n",
            "bye\n",
            "chatbot : BYE ! have a good day\n"
          ]
        }
      ]
    },
    {
      "cell_type": "code",
      "source": [
        "t = \"how are you ?\"\n",
        "y = t.split()"
      ],
      "metadata": {
        "id": "KXx_Z7cWdKLu"
      },
      "execution_count": null,
      "outputs": []
    },
    {
      "cell_type": "code",
      "source": [
        "for i in y :\n",
        "  print(i)"
      ],
      "metadata": {
        "colab": {
          "base_uri": "https://localhost:8080/"
        },
        "id": "jjUrzJfehspR",
        "outputId": "1ca8e349-9c30-4bbb-fef1-9839153bc6fc"
      },
      "execution_count": null,
      "outputs": [
        {
          "output_type": "stream",
          "name": "stdout",
          "text": [
            "how\n",
            "are\n",
            "you\n",
            "?\n"
          ]
        }
      ]
    },
    {
      "cell_type": "code",
      "source": [],
      "metadata": {
        "id": "W4qCU72Ohyot"
      },
      "execution_count": null,
      "outputs": []
    }
  ]
}